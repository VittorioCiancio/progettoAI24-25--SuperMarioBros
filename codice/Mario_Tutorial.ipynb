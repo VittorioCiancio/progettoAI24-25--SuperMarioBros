{
 "cells": [
  {
   "cell_type": "markdown",
   "metadata": {},
   "source": [
    "# 1. Setup Mario"
   ]
  },
  {
   "cell_type": "code",
   "execution_count": null,
   "metadata": {
    "tags": []
   },
   "outputs": [],
   "source": [
    "!pip install gym_super_mario_bros==7.3.0 nes_py"
   ]
  },
  {
   "cell_type": "code",
   "execution_count": null,
   "metadata": {},
   "outputs": [],
   "source": [
    "# Importa il gioco\n",
    "import gym_super_mario_bros\n",
    "# Importa il wrapper per il Joypad\n",
    "from nes_py.wrappers import JoypadSpace\n",
    "# Importa i controlli SEMPLIFICATI\n",
    "from gym_super_mario_bros.actions import SIMPLE_MOVEMENT"
   ]
  },
  {
   "cell_type": "code",
   "execution_count": null,
   "metadata": {},
   "outputs": [],
   "source": [
    "# Configura il gioco\n",
    "env = gym_super_mario_bros.make('SuperMarioBros-v0')\n",
    "env = JoypadSpace(env, SIMPLE_MOVEMENT)"
   ]
  },
  {
   "cell_type": "code",
   "execution_count": null,
   "metadata": {
    "tags": []
   },
   "outputs": [],
   "source": [
    "# Crea una flag - ripartire o no\n",
    "done = True\n",
    "# Cicla attraverso ogni frame del gioco\n",
    "for step in range(100000): \n",
    "    # Avvia il gioco all'inizio\n",
    "    if done: \n",
    "        # Riavvia il gioco\n",
    "        env.reset()\n",
    "    # Esegui azioni casuali\n",
    "    state, reward, done, info = env.step(env.action_space.sample())\n",
    "    # Mostra il gioco sullo schermo\n",
    "    env.render()\n",
    "# Chiudi il gioco\n",
    "env.close()"
   ]
  },
  {
   "cell_type": "markdown",
   "metadata": {},
   "source": [
    "# 2. Preprocess Environment"
   ]
  },
  {
   "cell_type": "code",
   "execution_count": null,
   "metadata": {
    "tags": []
   },
   "outputs": [],
   "source": [
    "# Installa pytorch\n",
    "!pip install torch==1.10.1+cu113 torchvision==0.11.2+cu113 torchaudio===0.10.1+cu113 -f https://download.pytorch.org/whl/cu113/torch_stable.html"
   ]
  },
  {
   "cell_type": "code",
   "execution_count": null,
   "metadata": {
    "tags": []
   },
   "outputs": [],
   "source": [
    "# Installa Stable Baselines per strumenti di apprendimento per rinforzo\n",
    "!pip install stable-baselines3[extra]"
   ]
  },
  {
   "cell_type": "code",
   "execution_count": null,
   "metadata": {},
   "outputs": [],
   "source": [
    "# Importa il wrapper per l'accumulo dei frame e il wrapper per la conversione in scala di grigi\n",
    "from gym.wrappers import GrayScaleObservation\n",
    "# Importa i wrapper per la vettorizzazione\n",
    "from stable_baselines3.common.vec_env import VecFrameStack, DummyVecEnv\n",
    "# Importa Matplotlib per mostrare l'impatto dell'accumulo dei frame\n",
    "from matplotlib import pyplot as plt"
   ]
  },
  {
   "cell_type": "code",
   "execution_count": null,
   "metadata": {},
   "outputs": [],
   "source": [
    "# 1. Crea l'ambiente base\n",
    "env = gym_super_mario_bros.make('SuperMarioBros-v0')\n",
    "# 2. Semplifica i controlli\n",
    "env = JoypadSpace(env, SIMPLE_MOVEMENT)\n",
    "# 3. Converti in scala di grigi\n",
    "env = GrayScaleObservation(env, keep_dim=True)\n",
    "# 4. Inserisci l'ambiente all'interno del Dummy Environment\n",
    "env = DummyVecEnv([lambda: env])\n",
    "# 5. Accumula i frame\n",
    "env = VecFrameStack(env, 4, channels_order='last')"
   ]
  },
  {
   "cell_type": "code",
   "execution_count": null,
   "metadata": {},
   "outputs": [],
   "source": [
    "state = env.reset()"
   ]
  },
  {
   "cell_type": "code",
   "execution_count": null,
   "metadata": {},
   "outputs": [],
   "source": [
    "state, reward, done, info = env.step([5])"
   ]
  },
  {
   "cell_type": "code",
   "execution_count": null,
   "metadata": {},
   "outputs": [],
   "source": [
    "plt.figure(figsize=(20,16))\n",
    "for idx in range(state.shape[3]):\n",
    "    plt.subplot(1,4,idx+1)\n",
    "    plt.imshow(state[0][:,:,idx])\n",
    "plt.show()"
   ]
  },
  {
   "cell_type": "markdown",
   "metadata": {},
   "source": [
    "# 3. Train the RL Model"
   ]
  },
  {
   "cell_type": "code",
   "execution_count": null,
   "metadata": {},
   "outputs": [],
   "source": [
    "# Importa os per la gestione dei percorsi dei file\n",
    "import os \n",
    "# Importa PPO per gli algoritmi\n",
    "from stable_baselines3 import PPO\n",
    "# Importa Base Callback per salvare i modelli\n",
    "from stable_baselines3.common.callbacks import BaseCallback"
   ]
  },
  {
   "cell_type": "code",
   "execution_count": null,
   "metadata": {
    "jupyter": {
     "source_hidden": true
    },
    "tags": []
   },
   "outputs": [],
   "source": [
    "class TrainAndLoggingCallback(BaseCallback):\n",
    "\n",
    "    def __init__(self, check_freq, save_path, verbose=1):\n",
    "        super(TrainAndLoggingCallback, self).__init__(verbose)\n",
    "        self.check_freq = check_freq\n",
    "        self.save_path = save_path\n",
    "\n",
    "    def _init_callback(self):\n",
    "        if self.save_path is not None:\n",
    "            os.makedirs(self.save_path, exist_ok=True)\n",
    "\n",
    "    def _on_step(self):\n",
    "        if self.n_calls % self.check_freq == 0:\n",
    "            model_path = os.path.join(self.save_path, 'best_model_{}'.format(self.n_calls))\n",
    "            self.model.save(model_path)\n",
    "\n",
    "        return True"
   ]
  },
  {
   "cell_type": "code",
   "execution_count": null,
   "metadata": {},
   "outputs": [],
   "source": [
    "CHECKPOINT_DIR = './train/'\n",
    "LOG_DIR = './logs/'"
   ]
  },
  {
   "cell_type": "code",
   "execution_count": null,
   "metadata": {
    "jupyter": {
     "source_hidden": true
    },
    "tags": []
   },
   "outputs": [],
   "source": [
    "# Configura il callback per il salvataggio del modello\n",
    "callback = TrainAndLoggingCallback(check_freq=10000, save_path=CHECKPOINT_DIR)"
   ]
  },
  {
   "cell_type": "code",
   "execution_count": null,
   "metadata": {},
   "outputs": [],
   "source": [
    "# Questo è il modello di intelligenza artificiale avviato\n",
    "model = PPO('CnnPolicy', env, verbose=1, tensorboard_log=LOG_DIR, learning_rate=0.0000005, \n",
    "            n_steps=512)"
   ]
  },
  {
   "cell_type": "code",
   "execution_count": null,
   "metadata": {
    "tags": []
   },
   "outputs": [],
   "source": [
    "# Addestra il modello di intelligenza artificiale, qui è dove il modello inizia a imparare\n",
    "model.learn(total_timesteps=4000000, callback=callback)"
   ]
  },
  {
   "cell_type": "code",
   "execution_count": null,
   "metadata": {},
   "outputs": [],
   "source": [
    "model.save('thisisatestmodel')"
   ]
  },
  {
   "cell_type": "markdown",
   "metadata": {},
   "source": [
    "# 4. Test it Out"
   ]
  },
  {
   "cell_type": "code",
   "execution_count": null,
   "metadata": {},
   "outputs": [],
   "source": [
    "# Carica il modello\n",
    "model = PPO.load('./train/best_model_4000000')"
   ]
  },
  {
   "cell_type": "code",
   "execution_count": null,
   "metadata": {},
   "outputs": [],
   "source": [
    "state = env.reset()"
   ]
  },
  {
   "cell_type": "code",
   "execution_count": null,
   "metadata": {},
   "outputs": [],
   "source": [
    "import warnings\n",
    "warnings.filterwarnings(\"ignore\")  # Sopprime i warning\n",
    "\n",
    "# Contatori\n",
    "episode = 0\n",
    "victories = 0\n",
    "\n",
    "# Traccia l'ultimo livello (mondo e stage)\n",
    "last_world = 1\n",
    "last_stage = 1\n",
    "\n",
    "# Ciclo attraverso il gioco\n",
    "while True: \n",
    "    action, _ = model.predict(state)\n",
    "    state, reward, done, info = env.step(action)\n",
    "    env.render()\n",
    "    \n",
    "    # Controlla se il gioco è terminato\n",
    "    if done:\n",
    "        episode += 1\n",
    "        \n",
    "        # Ottieni il mondo e lo stage attuali\n",
    "        current_world = info[0].get(\"world\", 1)\n",
    "        current_stage = info[0].get(\"stage\", 1)\n",
    "        \n",
    "        # Controlla se Mario ha completato un livello (cambiamento di mondo o stage)\n",
    "        if (current_world > last_world) or (current_stage > last_stage):\n",
    "            victories += 1\n",
    "            print(f\"Vittoria nell'episodio {episode}! Ora Mario è nel mondo {current_world}-{current_stage}.\")\n",
    "        \n",
    "        # Aggiorna i valori di mondo e stage\n",
    "        last_world = current_world\n",
    "        last_stage = current_stage\n",
    "        \n",
    "        # Reimposta l'ambiente per il prossimo episodio\n",
    "        state = env.reset()"
   ]
  }
 ],
 "metadata": {
  "kernelspec": {
   "display_name": "mario_env",
   "language": "python",
   "name": "python3"
  },
  "language_info": {
   "codemirror_mode": {
    "name": "ipython",
    "version": 3
   },
   "file_extension": ".py",
   "mimetype": "text/x-python",
   "name": "python",
   "nbconvert_exporter": "python",
   "pygments_lexer": "ipython3",
   "version": "3.8.0"
  }
 },
 "nbformat": 4,
 "nbformat_minor": 4
}
